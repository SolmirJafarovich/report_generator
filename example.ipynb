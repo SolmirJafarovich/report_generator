{
  "cells": [
    {
      "cell_type": "markdown",
      "id": "76a9ce73",
      "metadata": {},
      "source": [
        "#  Руководство по использованию Report Generator\n",
        "\n",
        "Этот блокнот покажет вам, как использовать генератор отчётов для создания презентаций PowerPoint.\n",
        "\n",
        "Мы рассмотрим:\n",
        "- как составить `report_data.json`;\n",
        "- как управлять содержанием слайдов;\n",
        "- как стилизовать текст и таблицы через `style_config.json`;\n",
        "- и как изменения отражаются на финальной презентации."
      ]
    },
    {
      "cell_type": "markdown",
      "id": "a31951e7",
      "metadata": {},
      "source": [
        "##  Структура отчёта: `report_data.json`\n",
        "\n",
        "Это основной файл, описывающий, какие слайды будут в презентации.\n",
        "\n",
        "Каждый слайд имеет тип `type`:\n",
        "- `title` — титульный слайд\n",
        "- `text` — слайд с подзаголовком и текстом\n",
        "- `image` — слайд с одной или несколькими картинками\n",
        "- `table` — слайд с таблицей"
      ]
    },
    {
      "cell_type": "code",
      "execution_count": null,
      "id": "0933ec0a",
      "metadata": {},
      "outputs": [],
      "source": [
        "report_data = {\n",
        "    \"template_path\": \"templates/example_template.pptx\",\n",
        "    \"slides\": [\n",
        "        {\n",
        "            \"type\": \"title\",\n",
        "            \"title\": \"Отчёт по результатам\",\n",
        "            \"subtitle\": \"Июль 2025\"\n",
        "        },\n",
        "        {\n",
        "            \"type\": \"image\",\n",
        "            \"title\": \"Иллюстрации эксперимента\",\n",
        "            \"images\": [\n",
        "                {\"path\": \"data/image1.jpg\", \"caption\": \"Картинка 1\"},\n",
        "                {\"path\": \"data/image1.jpg\", \"caption\": \"Картинка 2\"},\n",
        "                {\"path\": \"data/image1.jpg\", \"caption\": \"Картинка 3\"},\n",
        "                {\"path\": \"data/image1.jpg\", \"caption\": \"Картинка 4\"}\n",
        "            ]\n",
        "        },\n",
        "        {\n",
        "            \"type\": \"table\",\n",
        "            \"title\": \"Таблица с результатами\",\n",
        "            \"tables\": [{\"path\": \"data/table1.xlsx\"}]\n",
        "        },\n",
        "        {\n",
        "            \"type\": \"text\",\n",
        "            \"title\": \"Выводы\",\n",
        "            \"blocks\": [\n",
        "                {\"text\": \"Резюме и рекомендации\", \"style\": \"body\"},\n",
        "                {\"text\": \"Система работает как ожидалось...\", \"style\": \"notes\"},\n",
        "                {\"text\": \"Дополнительные выводы\", \"style\": \"body\"},\n",
        "                {\"text\": \"Следующие шаги обсуждаются отдельно\", \"style\": \"notes\"}\n",
        "            ]\n",
        "        }\n",
        "    ]\n",
        "}"
      ]
    },
    {
      "cell_type": "markdown",
      "id": "e8b79643",
      "metadata": {},
      "source": [
        "###  Что можно добавить этой архитектурой?\n",
        "\n",
        "- Титульный слайд\n",
        "- Слайд с картинками от 1 до 4х, и подписи к ним\n",
        "- Слайд с таблицей в случае превышения объёма на слайде таблица будет разбита на части\n",
        "- Слайд с текстом поддерживающий 3 типа текста\n",
        "\n",
        "⚠️ Картинки автоматически размещаются до 4-х штук на слайде. Больше — будет перенесено на следую."
      ]
    },
    {
      "cell_type": "markdown",
      "id": "ae198e6c",
      "metadata": {},
      "source": [
        "##  Стилизация: `style_config.json`\n",
        "\n",
        "Вы можете задать оформление всех текстов:\n",
        "- `title` — заголовки слайдов\n",
        "- `body` — основной текст\n",
        "- `table_header` — заголовки таблиц\n",
        "- `table_cell` — ячейки таблиц\n",
        "- `notes` — текст заметок\n",
        "\n",
        "Вот пример:"
      ]
    },
    {
      "cell_type": "code",
      "execution_count": null,
      "id": "f9c3f89c",
      "metadata": {},
      "outputs": [],
      "source": [
        "style_data = {\n",
        "    \"title\": {\n",
        "        \"font_name\": \"Calibri\",\n",
        "        \"font_size\": 32,\n",
        "        \"bold\": True,\n",
        "        \"italic\": False,\n",
        "        \"color\": \"003366\",\n",
        "        \"text_align\": \"center\"\n",
        "    },\n",
        "    \"body\": {\n",
        "        \"font_name\": \"Calibri\",\n",
        "        \"font_size\": 18,\n",
        "        \"bold\": False,\n",
        "        \"italic\": False,\n",
        "        \"color\": \"333333\"\n",
        "    },\n",
        "    \"table_header\": {\n",
        "        \"font_name\": \"Calibri\",\n",
        "        \"font_size\": 14,\n",
        "        \"bold\": True,\n",
        "        \"color\": \"000000\"\n",
        "    },\n",
        "    \"table_cell\": {\n",
        "        \"font_name\": \"Calibri\",\n",
        "        \"font_size\": 12,\n",
        "        \"bold\": False,\n",
        "        \"color\": \"000000\"\n",
        "    }\n",
        "}"
      ]
    }
  ],
  "metadata": {
    "kernelspec": {
      "display_name": "Python 3",
      "language": "python",
      "name": "python3"
    },
    "language_info": {
      "codemirror_mode": {
        "name": "ipython",
        "version": 3
      },
      "file_extension": ".py",
      "mimetype": "text/x-python",
      "name": "python",
      "nbconvert_exporter": "python",
      "pygments_lexer": "ipython3",
      "version": "3.11.3"
    }
  },
  "nbformat": 4,
  "nbformat_minor": 5
}
